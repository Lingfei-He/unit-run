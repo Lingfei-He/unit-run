{
 "cells": [
  {
   "cell_type": "markdown",
   "metadata": {},
   "source": [
    "# Installation\n",
    "## Prerequisites\n",
    "- Python >= 3.7\n",
    "\n",
    "## Package Installation\n",
    "\n",
    "### pip\n",
    "```shell\n",
    "pip install unit-run\n",
    "```"
   ]
  },
  {
   "cell_type": "markdown",
   "metadata": {},
   "source": [
    "```{list-table}\n",
    "* - ```{code-block} json\n",
    "    :caption: test.json\n",
    "    :linenos:\n",
    "    :name: test\n",
    "    {\n",
    "        \"test\": 123,\n",
    "        \"tefad\": \"esfaa\"\n",
    "    }\n",
    "    ```\n",
    "  - ```{code-block} json\n",
    "    :caption: Code blocks can also have captions.\n",
    "    :linenos:\n",
    "    {\n",
    "        \"test\": 123,\n",
    "        \"tefad\": \"esfaa\"\n",
    "    }\n",
    "    ```\n",
    "```"
   ]
  },
  {
   "cell_type": "markdown",
   "metadata": {},
   "source": [
    "```{code-block} python\n",
    "    :caption: test\n",
    "    :emphasize-lines: 3,5\n",
    "    :linenos:\n",
    "    {\n",
    "        \"test\": 123,\n",
    "        \"tefad\": \"esfaa\"\n",
    "    }\n",
    "```"
   ]
  }
 ],
 "metadata": {
  "kernelspec": {
   "display_name": "base",
   "language": "python",
   "name": "python3"
  },
  "language_info": {
   "codemirror_mode": {
    "name": "ipython",
    "version": 3
   },
   "file_extension": ".py",
   "mimetype": "text/x-python",
   "name": "python",
   "nbconvert_exporter": "python",
   "pygments_lexer": "ipython3",
   "version": "3.9.13"
  }
 },
 "nbformat": 4,
 "nbformat_minor": 2
}
