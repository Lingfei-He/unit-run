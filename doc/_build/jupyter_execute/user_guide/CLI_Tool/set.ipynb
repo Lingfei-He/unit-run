{
 "cells": [
  {
   "cell_type": "markdown",
   "metadata": {},
   "source": [
    "# Set named parameter groups for a stored `Unit`\n",
    "You can use `unit-run set` commands to set or reset a parameter group for a stored `Unit` Object.\n",
    "## Use `--rename` to set a parameter group with another name."
   ]
  },
  {
   "cell_type": "code",
   "execution_count": 9,
   "metadata": {
    "vscode": {
     "languageId": "shellscript"
    }
   },
   "outputs": [
    {
     "name": "stdout",
     "output_type": "stream",
     "text": [
      "Parameter group set completely.\n"
     ]
    }
   ],
   "source": [
    "unit-run set test --rename name4 other_name"
   ]
  },
  {
   "cell_type": "markdown",
   "metadata": {},
   "source": [
    "## Use `-j/--json-str-pairs` to set new parameter groups transformed by the given `(name, json-str)` pairs."
   ]
  },
  {
   "cell_type": "code",
   "execution_count": 11,
   "metadata": {
    "vscode": {
     "languageId": "shellscript"
    }
   },
   "outputs": [
    {
     "name": "stdout",
     "output_type": "stream",
     "text": [
      "New parameter group 'new_name' added.\n",
      "New parameter group 'new_name2' added.\n",
      "Parameter group set completely.\n"
     ]
    }
   ],
   "source": [
    "unit-run set test -j new_name \"[6,7]\" new_name2 \"{\\\"a\\\": 8, \\\"b\\\": 9}\""
   ]
  },
  {
   "cell_type": "markdown",
   "metadata": {},
   "source": [
    "## Use `-f/--file-pairs` to set new parameter groups read by the given `(name, json-file-path)` pairs.\n",
    "````{margin}\n",
    "```{code-block} json\n",
    "    :caption: manual_p_group1.json\n",
    "[10, 1]\n",
    "```\n",
    "````"
   ]
  },
  {
   "cell_type": "code",
   "execution_count": 12,
   "metadata": {
    "vscode": {
     "languageId": "shellscript"
    }
   },
   "outputs": [
    {
     "name": "stdout",
     "output_type": "stream",
     "text": [
      "New parameter group 'new_name1' added.\n",
      "New parameter group 'new_name2' added.\n",
      "Parameter group set completely.\n"
     ]
    }
   ],
   "source": [
    "unit-run set test -f new_name1 manual_p_group1.json new_name2 manual_p_group1.json"
   ]
  },
  {
   "cell_type": "markdown",
   "metadata": {},
   "source": [
    "## You can use `-F/--force-overwrite` to force to overwrite a parameter group by a existing name"
   ]
  },
  {
   "cell_type": "code",
   "execution_count": null,
   "metadata": {
    "vscode": {
     "languageId": "shellscript"
    }
   },
   "outputs": [],
   "source": [
    "unit-run set -F test --rename name4 name3\n",
    "unit-run set -F test -j name1 \"[6,7]\" name2 \"{\\\"a\\\": 8, \\\"b\\\": 9}\"\n",
    "unit-run set -F test -f name1 manual_p_group1.json name2 manual_p_group1.json"
   ]
  }
 ],
 "metadata": {
  "kernelspec": {
   "display_name": "base",
   "language": "python",
   "name": "python3"
  },
  "language_info": {
   "codemirror_mode": {
    "name": "ipython",
    "version": 3
   },
   "file_extension": ".py",
   "mimetype": "text/x-python",
   "name": "python",
   "nbconvert_exporter": "python",
   "pygments_lexer": "ipython3",
   "version": "3.9.13"
  }
 },
 "nbformat": 4,
 "nbformat_minor": 2
}