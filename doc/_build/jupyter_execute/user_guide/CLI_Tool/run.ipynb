{
 "cells": [
  {
   "cell_type": "markdown",
   "metadata": {},
   "source": [
    "# Run a stored `Unit`\n",
    "You can use `unit-run run` commands to perform a run from a stored `Unit` Object.\n",
    "## Use `-g/--group-name` to specify a stored parameter group to perform a unit run."
   ]
  },
  {
   "cell_type": "code",
   "execution_count": 6,
   "metadata": {
    "vscode": {
     "languageId": "shellscript"
    }
   },
   "outputs": [
    {
     "name": "stdout",
     "output_type": "stream",
     "text": [
      "Running the target unit 'y' from test.py...\n",
      "Running complete, time consuming: 0.0 s.\n",
      "\n",
      "**********Running Result**********\n",
      "-2\n",
      "**********Running Result**********\n"
     ]
    }
   ],
   "source": [
    "unit-run run test -g name2"
   ]
  },
  {
   "cell_type": "markdown",
   "metadata": {},
   "source": [
    "## Use `-j/--json-str` to use the parameters transformed by the given `json-str` to perform a unit run."
   ]
  },
  {
   "cell_type": "code",
   "execution_count": 7,
   "metadata": {
    "vscode": {
     "languageId": "shellscript"
    }
   },
   "outputs": [
    {
     "name": "stdout",
     "output_type": "stream",
     "text": [
      "Running the target unit 'y' from test.py...\n",
      "Running complete, time consuming: 0.0 s.\n",
      "\n",
      "**********Running Result**********\n",
      "-1\n",
      "**********Running Result**********\n"
     ]
    }
   ],
   "source": [
    "unit-run run test -j \"[2, 3]\""
   ]
  },
  {
   "cell_type": "markdown",
   "metadata": {},
   "source": [
    "## Use `-f/--file` to use the parameters read from the given json file path to perform a unit run.\n",
    "````{margin}\n",
    "```{code-block} json\n",
    "    :caption: manual_p_group1.json\n",
    "[10, 1]\n",
    "```\n",
    "````"
   ]
  },
  {
   "cell_type": "code",
   "execution_count": 9,
   "metadata": {
    "vscode": {
     "languageId": "shellscript"
    }
   },
   "outputs": [
    {
     "name": "stdout",
     "output_type": "stream",
     "text": [
      "Running the target unit 'y' from test.py...\n",
      "Running complete, time consuming: 0.0 s.\n",
      "\n",
      "**********Running Result**********\n",
      "9\n",
      "**********Running Result**********\n"
     ]
    }
   ],
   "source": [
    "unit-run run test -f manual_p_group1.json"
   ]
  }
 ],
 "metadata": {
  "kernelspec": {
   "display_name": "base",
   "language": "python",
   "name": "python3"
  },
  "language_info": {
   "codemirror_mode": {
    "name": "ipython",
    "version": 3
   },
   "file_extension": ".py",
   "mimetype": "text/x-python",
   "name": "python",
   "nbconvert_exporter": "python",
   "pygments_lexer": "ipython3",
   "version": "3.9.13"
  }
 },
 "nbformat": 4,
 "nbformat_minor": 2
}