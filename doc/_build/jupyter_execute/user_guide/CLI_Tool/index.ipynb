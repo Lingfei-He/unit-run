{
 "cells": [
  {
   "cell_type": "markdown",
   "metadata": {},
   "source": [
    "# CLI Tool"
   ]
  },
  {
   "cell_type": "markdown",
   "metadata": {},
   "source": [
    "Before we start to use the CLI tool, we firstly suppose that there is a file `test.py` with two units (`functions` in this example):\n",
    "``` python\n",
    "# tests/test.py\n",
    "def x(a, b):\n",
    "    return a+b\n",
    "\n",
    "def y(a, b):\n",
    "    return a-b\n",
    "```"
   ]
  },
  {
   "cell_type": "markdown",
   "metadata": {},
   "source": [
    "And we also suppose that the target unit we want to run is the function `y(a, b)`.\n",
    "```python\n",
    "unit_path = 'tests/test.py'\n",
    "unit_name = 'y'\n",
    "```"
   ]
  },
  {
   "cell_type": "markdown",
   "metadata": {},
   "source": [
    "For easy explaination in following usecases, we firstly suppose that we have created two parameter group json files manually (normally, they can be generated automatically by other script or by this CTL tool):\n",
    "<html>\n",
    "    <table style=\"margin-left: auto; margin-right: auto; width:100%;\">\n",
    "        <tr>\n",
    "            <td><b>1.  tests/manual_p_group1.json</b>\n",
    "                <pre style='margin: 0;'><code>\n",
    "[10, 0]\n",
    "                </code></pre>\n",
    "            </td>\n",
    "            <td><b>2.  tests/manual_p_group2.json</b>\n",
    "                <pre style='margin: 0;'><code>\n",
    "{\"a\": 100, \"b\": 99.5}\n",
    "                </code></pre>\n",
    "            </td>\n",
    "        </tr>\n",
    "    </table>\n",
    "</html>\n",
    "\n",
    "   \n",
    "\n"
   ]
  }
 ],
 "metadata": {
  "kernelspec": {
   "display_name": "base",
   "language": "python",
   "name": "python3"
  },
  "language_info": {
   "codemirror_mode": {
    "name": "ipython",
    "version": 3
   },
   "file_extension": ".py",
   "mimetype": "text/x-python",
   "name": "python",
   "nbconvert_exporter": "python",
   "pygments_lexer": "ipython3",
   "version": "3.9.13"
  }
 },
 "nbformat": 4,
 "nbformat_minor": 2
}