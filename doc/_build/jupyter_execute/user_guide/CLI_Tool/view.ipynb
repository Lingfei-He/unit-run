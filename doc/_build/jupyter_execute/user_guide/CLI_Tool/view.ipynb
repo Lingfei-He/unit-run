{
 "cells": [
  {
   "cell_type": "markdown",
   "metadata": {},
   "source": [
    "# Inspect or view `Unit` information\n",
    "You can use `unit-run view` commands to view the information of Objects related to `Unit`.\n",
    "## Use `--dir` to view the information of a stored `Unit` from the given directory path"
   ]
  },
  {
   "cell_type": "code",
   "execution_count": 7,
   "metadata": {
    "vscode": {
     "languageId": "shellscript"
    }
   },
   "outputs": [
    {
     "name": "stdout",
     "output_type": "stream",
     "text": [
      "{\n",
      "  \"src_path\": \"test.py\",\n",
      "  \"src_name\": \"y\",\n",
      "  \"load_path\": null,\n",
      "  \"param_group_names\": \"['name1', 'name2', 'name3', 'name4']\"\n",
      "}\n"
     ]
    }
   ],
   "source": [
    "unit-run view --dir test"
   ]
  },
  {
   "cell_type": "markdown",
   "metadata": {},
   "source": [
    "## View the specific paramter group in a `Unit`"
   ]
  },
  {
   "cell_type": "code",
   "execution_count": 9,
   "metadata": {
    "vscode": {
     "languageId": "shellscript"
    }
   },
   "outputs": [
    {
     "name": "stdout",
     "output_type": "stream",
     "text": [
      "{\n",
      "  \"data\": {\n",
      "    \"a\": 3,\n",
      "    \"b\": 5\n",
      "  },\n",
      "  \"load_path\": \"test\\\\name2.param_group.json\",\n",
      "  \"valid\": true\n",
      "}\n"
     ]
    }
   ],
   "source": [
    "unit-run view --dir test name2"
   ]
  },
  {
   "cell_type": "markdown",
   "metadata": {},
   "source": [
    "## Use `--raw` to view a raw unit from a source file\n",
    "````{margin}\n",
    "```{code-block} python\n",
    "    :caption: test.py\n",
    "def x(a, b):\n",
    "    return a+b\n",
    "\n",
    "def y(a, b):\n",
    "    return a-b\n",
    "```\n",
    "````"
   ]
  },
  {
   "cell_type": "code",
   "execution_count": 22,
   "metadata": {
    "vscode": {
     "languageId": "shellscript"
    }
   },
   "outputs": [
    {
     "name": "stdout",
     "output_type": "stream",
     "text": [
      "{\n",
      "  \"name\": \"y\",\n",
      "  \"paramters\": [\n",
      "    {\n",
      "      \"name\": \"a\",\n",
      "      \"annotation\": \"<class 'inspect._empty'>\",\n",
      "      \"kind\": \"positional or keyword\"\n",
      "    },\n",
      "    {\n",
      "      \"name\": \"b\",\n",
      "      \"annotation\": \"<class 'inspect._empty'>\",\n",
      "      \"kind\": \"positional or keyword\"\n",
      "    }\n",
      "  ]\n",
      "}\n"
     ]
    }
   ],
   "source": [
    "unit-run view --raw test.py y"
   ]
  }
 ],
 "metadata": {
  "kernelspec": {
   "display_name": "base",
   "language": "python",
   "name": "python3"
  },
  "language_info": {
   "codemirror_mode": {
    "name": "ipython",
    "version": 3
   },
   "file_extension": ".py",
   "mimetype": "text/x-python",
   "name": "python",
   "nbconvert_exporter": "python",
   "pygments_lexer": "ipython3",
   "version": "3.9.13"
  }
 },
 "nbformat": 4,
 "nbformat_minor": 2
}