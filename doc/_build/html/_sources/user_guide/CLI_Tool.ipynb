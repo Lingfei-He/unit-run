{
 "cells": [
  {
   "cell_type": "markdown",
   "metadata": {},
   "source": [
    "# CLI Tool"
   ]
  },
  {
   "cell_type": "markdown",
   "metadata": {},
   "source": [
    "Before we start to use the CLI tool, we firstly suppose that there is a file `test.py` with two units (`functions` in this example):\n",
    "``` python\n",
    "# tests/test.py\n",
    "def x(a, b):\n",
    "    return a+b\n",
    "\n",
    "def y(a, b):\n",
    "    return a-b\n",
    "```"
   ]
  },
  {
   "cell_type": "markdown",
   "metadata": {},
   "source": [
    "And we also suppose that the target unit we want to run is the function `y(a, b)`.\n",
    "```python\n",
    "unit_path = 'tests/test.py'\n",
    "unit_name = 'y'\n",
    "```"
   ]
  },
  {
   "cell_type": "markdown",
   "metadata": {},
   "source": [
    "For easy explaination in following usecases, we firstly suppose that we have created two parameter group json files manually (normally, they can be generated automatically by other script or by this CTL tool):\n",
    "<html>\n",
    "    <table style=\"margin-left: auto; margin-right: auto; width:100%;\">\n",
    "        <tr>\n",
    "            <td><b>1.  tests/manual_p_group1.json</b>\n",
    "                <pre style='margin: 0;'><code>\n",
    "[10, 0]\n",
    "                </code></pre>\n",
    "            </td>\n",
    "            <td><b>2.  tests/manual_p_group2.json</b>\n",
    "                <pre style='margin: 0;'><code>\n",
    "{\"a\": 100, \"b\": 99.5}\n",
    "                </code></pre>\n",
    "            </td>\n",
    "        </tr>\n",
    "    </table>\n",
    "</html>\n",
    "\n",
    "   \n",
    "\n"
   ]
  },
  {
   "cell_type": "markdown",
   "metadata": {},
   "source": [
    "### Perform a one-time unit running with a parameter group derived from a `json-str` or a `json` file\n",
    "- Use `-g` or `--group` to pass `json-str`"
   ]
  },
  {
   "cell_type": "code",
   "execution_count": 6,
   "metadata": {
    "vscode": {
     "languageId": "shellscript"
    }
   },
   "outputs": [
    {
     "name": "stderr",
     "output_type": "stream",
     "text": [
      "Traceback (most recent call last):\n",
      "  File \"C:\\ProgramData\\Anaconda3\\lib\\runpy.py\", line 197, in _run_module_as_main\n",
      "    return _run_code(code, main_globals, None,\n",
      "  File \"C:\\ProgramData\\Anaconda3\\lib\\runpy.py\", line 87, in _run_code\n",
      "    exec(code, run_globals)\n",
      "  File \"C:\\ProgramData\\Anaconda3\\Scripts\\unit-run.exe\\__main__.py\", line 7, in <module>\n",
      "  File \"C:\\ProgramData\\Anaconda3\\lib\\site-packages\\unit_run\\cli.py\", line 180, in main\n",
      "    args.func(args)\n",
      "  File \"C:\\ProgramData\\Anaconda3\\lib\\site-packages\\unit_run\\cli.py\", line 52, in func\n",
      "    run(unit, 'Unnamed', args.quiet)\n",
      "  File \"C:\\ProgramData\\Anaconda3\\lib\\site-packages\\unit_run\\cli.py\", line 28, in run\n",
      "    name, path = unit.name, unit.src_path\n",
      "AttributeError: 'Unit' object has no attribute 'name'\n"
     ]
    }
   ],
   "source": [
    "! unit-run once tests/test.py y -g \"[1, 2]\""
   ]
  }
 ],
 "metadata": {
  "kernelspec": {
   "display_name": "base",
   "language": "python",
   "name": "python3"
  },
  "language_info": {
   "codemirror_mode": {
    "name": "ipython",
    "version": 3
   },
   "file_extension": ".py",
   "mimetype": "text/x-python",
   "name": "python",
   "nbconvert_exporter": "python",
   "pygments_lexer": "ipython3",
   "version": "3.9.13"
  }
 },
 "nbformat": 4,
 "nbformat_minor": 2
}
