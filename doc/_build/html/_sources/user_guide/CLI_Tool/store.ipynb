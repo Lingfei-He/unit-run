{
 "cells": [
  {
   "cell_type": "markdown",
   "metadata": {},
   "source": [
    "# Create a stored `Unit` for the following runs\n",
    "You can use `unit-run create` commands to perform a one-time unit running with a parameter group derived from a `json-str` or a `json` file\n",
    "## Use `-j` or `--json-str-pairs` to pass `json-str` and use `-f` or `--file-pairs` to pass `json` file for a stored `Unit` creation"
   ]
  },
  {
   "cell_type": "code",
   "execution_count": 14,
   "metadata": {
    "vscode": {
     "languageId": "shellscript"
    }
   },
   "outputs": [],
   "source": [
    "unit-run create test.py y test -j name1 \"[1,2]\" name2 \"{\\\"a\\\": 3, \\\"b\\\": 5}\" -f name3 manual_p_group1.json name4 manual_p_group2.json"
   ]
  },
  {
   "cell_type": "markdown",
   "metadata": {},
   "source": [
    "The command above will create a `Unit` directory `test` with unit `y` from `test.py` and add parameter groups `name1`, `name2` (from `json-str`), `name3`, `name4` (from `json` file). The stored `Unit` can be read and run by following commands."
   ]
  }
 ],
 "metadata": {
  "kernelspec": {
   "display_name": "base",
   "language": "python",
   "name": "python3"
  },
  "language_info": {
   "codemirror_mode": {
    "name": "ipython",
    "version": 3
   },
   "file_extension": ".py",
   "mimetype": "text/x-python",
   "name": "python",
   "nbconvert_exporter": "python",
   "pygments_lexer": "ipython3",
   "version": "3.9.13"
  }
 },
 "nbformat": 4,
 "nbformat_minor": 2
}
