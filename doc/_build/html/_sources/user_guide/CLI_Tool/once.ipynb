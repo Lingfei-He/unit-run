{
 "cells": [
  {
   "cell_type": "markdown",
   "metadata": {},
   "source": [
    "# One-time unit running\n",
    "You can use `unit-run once` commands to perform a one-time unit running with a parameter group derived from a `json-str` or a `json` file\n",
    "## Use `-j` or `--json-str` to pass a `json-str` as a parameter group to input the function"
   ]
  },
  {
   "cell_type": "code",
   "execution_count": 4,
   "metadata": {
    "vscode": {
     "languageId": "shellscript"
    }
   },
   "outputs": [
    {
     "name": "stdout",
     "output_type": "stream",
     "text": [
      "Running the target unit 'y' from test.py...\n",
      "Running complete, time consuming: 0.0 s.\n",
      "\n",
      "**********Running Result**********\n",
      "-1\n",
      "**********Running Result**********\n"
     ]
    }
   ],
   "source": [
    "unit-run once test.py y -j \"[1, 2]\""
   ]
  },
  {
   "cell_type": "markdown",
   "metadata": {},
   "source": [
    "## Use `-f/--file` to pass a parameter group from a `json` file"
   ]
  },
  {
   "cell_type": "markdown",
   "metadata": {},
   "source": [
    "`````{note} Remember, we have already created the parameter group json file.\n",
    "    :class: margin\n",
    "```{code-block} json\n",
    "    :caption: manual_p_group1.json\n",
    "[\n",
    "    10, 0\n",
    "]\n",
    "```\n",
    "Normally, it can be generated automatically by other script or by this CTL tool.\n",
    "`````"
   ]
  },
  {
   "cell_type": "code",
   "execution_count": 6,
   "metadata": {
    "vscode": {
     "languageId": "shellscript"
    }
   },
   "outputs": [
    {
     "name": "stdout",
     "output_type": "stream",
     "text": [
      "Running the target unit 'y' from test.py...\n",
      "Running complete, time consuming: 0.0 s.\n",
      "\n",
      "**********Running Result**********\n",
      "9\n",
      "**********Running Result**********\n"
     ]
    }
   ],
   "source": [
    "unit-run once test.py y -f manual_p_group1.json"
   ]
  }
 ],
 "metadata": {
  "kernelspec": {
   "display_name": "base",
   "language": "python",
   "name": "python3"
  },
  "language_info": {
   "codemirror_mode": {
    "name": "ipython",
    "version": 3
   },
   "file_extension": ".py",
   "mimetype": "text/x-python",
   "name": "python",
   "nbconvert_exporter": "python",
   "pygments_lexer": "ipython3",
   "version": "3.9.13"
  }
 },
 "nbformat": 4,
 "nbformat_minor": 2
}
